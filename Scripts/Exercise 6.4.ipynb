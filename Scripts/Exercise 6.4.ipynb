{
 "cells": [
  {
   "cell_type": "markdown",
   "id": "10991917",
   "metadata": {},
   "source": [
    "# Importing"
   ]
  },
  {
   "cell_type": "code",
   "execution_count": 1,
   "id": "9dbb4b1e",
   "metadata": {},
   "outputs": [],
   "source": [
    "import pandas as pd\n",
    "import numpy as np\n",
    "import seaborn as sns\n",
    "import matplotlib\n",
    "import matplotlib.pyplot as plt\n",
    "import os\n",
    "import sklearn\n",
    "from sklearn.model_selection import train_test_split \n",
    "from sklearn.linear_model import LinearRegression\n",
    "from sklearn.metrics import mean_squared_error, r2_score"
   ]
  },
  {
   "cell_type": "code",
   "execution_count": 2,
   "id": "c68c4fa5",
   "metadata": {},
   "outputs": [],
   "source": [
    "%matplotlib inline"
   ]
  },
  {
   "cell_type": "code",
   "execution_count": 3,
   "id": "2a65604f",
   "metadata": {},
   "outputs": [],
   "source": [
    "path = r'C:\\Users\\Administrator\\Desktop\\Projects (Carrer foundry)\\Achievement 6'\n",
    "df_clean= pd.read_csv(os.path.join(path, 'Data','Cleanest_data.csv'), index_col= False)"
   ]
  },
  {
   "cell_type": "markdown",
   "id": "0597c9f9",
   "metadata": {},
   "source": [
    "# Data Cleaning"
   ]
  },
  {
   "cell_type": "code",
   "execution_count": 6,
   "id": "3fbc0f4d",
   "metadata": {},
   "outputs": [
    {
     "data": {
      "text/html": [
       "<div>\n",
       "<style scoped>\n",
       "    .dataframe tbody tr th:only-of-type {\n",
       "        vertical-align: middle;\n",
       "    }\n",
       "\n",
       "    .dataframe tbody tr th {\n",
       "        vertical-align: top;\n",
       "    }\n",
       "\n",
       "    .dataframe thead th {\n",
       "        text-align: right;\n",
       "    }\n",
       "</style>\n",
       "<table border=\"1\" class=\"dataframe\">\n",
       "  <thead>\n",
       "    <tr style=\"text-align: right;\">\n",
       "      <th></th>\n",
       "      <th>Company \\n(Maker-if known)</th>\n",
       "      <th>Specific_Bean_Origin_or_Bar_Name</th>\n",
       "      <th>REF</th>\n",
       "      <th>Review_Date</th>\n",
       "      <th>Cocoa_Percent</th>\n",
       "      <th>Company_Location</th>\n",
       "      <th>Rating</th>\n",
       "      <th>Bean_Type</th>\n",
       "      <th>Broad Bean_Origin</th>\n",
       "      <th>Quality</th>\n",
       "    </tr>\n",
       "  </thead>\n",
       "  <tbody>\n",
       "    <tr>\n",
       "      <th>0</th>\n",
       "      <td>A. Morin</td>\n",
       "      <td>Agua Grande</td>\n",
       "      <td>1876</td>\n",
       "      <td>2016</td>\n",
       "      <td>63.0</td>\n",
       "      <td>France</td>\n",
       "      <td>3.75</td>\n",
       "      <td>Missing</td>\n",
       "      <td>Sao Tome</td>\n",
       "      <td>Above Average</td>\n",
       "    </tr>\n",
       "    <tr>\n",
       "      <th>1</th>\n",
       "      <td>A. Morin</td>\n",
       "      <td>Kpime</td>\n",
       "      <td>1676</td>\n",
       "      <td>2015</td>\n",
       "      <td>70.0</td>\n",
       "      <td>France</td>\n",
       "      <td>2.75</td>\n",
       "      <td>Missing</td>\n",
       "      <td>Togo</td>\n",
       "      <td>Below Average</td>\n",
       "    </tr>\n",
       "    <tr>\n",
       "      <th>2</th>\n",
       "      <td>A. Morin</td>\n",
       "      <td>Atsane</td>\n",
       "      <td>1676</td>\n",
       "      <td>2015</td>\n",
       "      <td>70.0</td>\n",
       "      <td>France</td>\n",
       "      <td>3.00</td>\n",
       "      <td>Missing</td>\n",
       "      <td>Togo</td>\n",
       "      <td>Average</td>\n",
       "    </tr>\n",
       "    <tr>\n",
       "      <th>3</th>\n",
       "      <td>A. Morin</td>\n",
       "      <td>Akata</td>\n",
       "      <td>1680</td>\n",
       "      <td>2015</td>\n",
       "      <td>70.0</td>\n",
       "      <td>France</td>\n",
       "      <td>3.50</td>\n",
       "      <td>Missing</td>\n",
       "      <td>Togo</td>\n",
       "      <td>Average</td>\n",
       "    </tr>\n",
       "    <tr>\n",
       "      <th>4</th>\n",
       "      <td>A. Morin</td>\n",
       "      <td>Quilla</td>\n",
       "      <td>1704</td>\n",
       "      <td>2015</td>\n",
       "      <td>70.0</td>\n",
       "      <td>France</td>\n",
       "      <td>3.50</td>\n",
       "      <td>Missing</td>\n",
       "      <td>Peru</td>\n",
       "      <td>Average</td>\n",
       "    </tr>\n",
       "  </tbody>\n",
       "</table>\n",
       "</div>"
      ],
      "text/plain": [
       "  Company \\n(Maker-if known) Specific_Bean_Origin_or_Bar_Name   REF  \\\n",
       "0                   A. Morin                      Agua Grande  1876   \n",
       "1                   A. Morin                            Kpime  1676   \n",
       "2                   A. Morin                           Atsane  1676   \n",
       "3                   A. Morin                            Akata  1680   \n",
       "4                   A. Morin                           Quilla  1704   \n",
       "\n",
       "   Review_Date  Cocoa_Percent Company_Location  Rating Bean_Type  \\\n",
       "0         2016           63.0           France    3.75   Missing   \n",
       "1         2015           70.0           France    2.75   Missing   \n",
       "2         2015           70.0           France    3.00   Missing   \n",
       "3         2015           70.0           France    3.50   Missing   \n",
       "4         2015           70.0           France    3.50   Missing   \n",
       "\n",
       "  Broad Bean_Origin        Quality  \n",
       "0          Sao Tome  Above Average  \n",
       "1              Togo  Below Average  \n",
       "2              Togo        Average  \n",
       "3              Togo        Average  \n",
       "4              Peru        Average  "
      ]
     },
     "execution_count": 6,
     "metadata": {},
     "output_type": "execute_result"
    }
   ],
   "source": [
    "df_clean = df_clean.drop('Unnamed: 0', axis=1)\n",
    "df_clean.head()"
   ]
  },
  {
   "cell_type": "code",
   "execution_count": 7,
   "id": "dd7d7b5d",
   "metadata": {},
   "outputs": [
    {
     "data": {
      "text/html": [
       "<div>\n",
       "<style scoped>\n",
       "    .dataframe tbody tr th:only-of-type {\n",
       "        vertical-align: middle;\n",
       "    }\n",
       "\n",
       "    .dataframe tbody tr th {\n",
       "        vertical-align: top;\n",
       "    }\n",
       "\n",
       "    .dataframe thead th {\n",
       "        text-align: right;\n",
       "    }\n",
       "</style>\n",
       "<table border=\"1\" class=\"dataframe\">\n",
       "  <thead>\n",
       "    <tr style=\"text-align: right;\">\n",
       "      <th></th>\n",
       "      <th>REF</th>\n",
       "      <th>Review_Date</th>\n",
       "      <th>Cocoa_Percent</th>\n",
       "      <th>Rating</th>\n",
       "    </tr>\n",
       "  </thead>\n",
       "  <tbody>\n",
       "    <tr>\n",
       "      <th>count</th>\n",
       "      <td>1934.000000</td>\n",
       "      <td>1934.000000</td>\n",
       "      <td>1934.000000</td>\n",
       "      <td>1934.00000</td>\n",
       "    </tr>\n",
       "    <tr>\n",
       "      <th>mean</th>\n",
       "      <td>1028.054292</td>\n",
       "      <td>2012.278180</td>\n",
       "      <td>71.719752</td>\n",
       "      <td>3.19545</td>\n",
       "    </tr>\n",
       "    <tr>\n",
       "      <th>std</th>\n",
       "      <td>555.505999</td>\n",
       "      <td>2.949334</td>\n",
       "      <td>6.367643</td>\n",
       "      <td>0.47933</td>\n",
       "    </tr>\n",
       "    <tr>\n",
       "      <th>min</th>\n",
       "      <td>5.000000</td>\n",
       "      <td>2006.000000</td>\n",
       "      <td>42.000000</td>\n",
       "      <td>1.00000</td>\n",
       "    </tr>\n",
       "    <tr>\n",
       "      <th>25%</th>\n",
       "      <td>565.000000</td>\n",
       "      <td>2010.000000</td>\n",
       "      <td>70.000000</td>\n",
       "      <td>3.00000</td>\n",
       "    </tr>\n",
       "    <tr>\n",
       "      <th>50%</th>\n",
       "      <td>1059.000000</td>\n",
       "      <td>2013.000000</td>\n",
       "      <td>70.000000</td>\n",
       "      <td>3.25000</td>\n",
       "    </tr>\n",
       "    <tr>\n",
       "      <th>75%</th>\n",
       "      <td>1494.000000</td>\n",
       "      <td>2015.000000</td>\n",
       "      <td>75.000000</td>\n",
       "      <td>3.50000</td>\n",
       "    </tr>\n",
       "    <tr>\n",
       "      <th>max</th>\n",
       "      <td>1952.000000</td>\n",
       "      <td>2017.000000</td>\n",
       "      <td>100.000000</td>\n",
       "      <td>5.00000</td>\n",
       "    </tr>\n",
       "  </tbody>\n",
       "</table>\n",
       "</div>"
      ],
      "text/plain": [
       "               REF  Review_Date  Cocoa_Percent      Rating\n",
       "count  1934.000000  1934.000000    1934.000000  1934.00000\n",
       "mean   1028.054292  2012.278180      71.719752     3.19545\n",
       "std     555.505999     2.949334       6.367643     0.47933\n",
       "min       5.000000  2006.000000      42.000000     1.00000\n",
       "25%     565.000000  2010.000000      70.000000     3.00000\n",
       "50%    1059.000000  2013.000000      70.000000     3.25000\n",
       "75%    1494.000000  2015.000000      75.000000     3.50000\n",
       "max    1952.000000  2017.000000     100.000000     5.00000"
      ]
     },
     "execution_count": 7,
     "metadata": {},
     "output_type": "execute_result"
    }
   ],
   "source": [
    "df_clean.describe()"
   ]
  },
  {
   "cell_type": "markdown",
   "id": "542e744c",
   "metadata": {},
   "source": [
    "## Looking into data\n",
    "unlike in the previous exercise I did check these values in the original cleaning as the above describes there aren't really outliers and having already graphed this data pretty sure it doesn't need anymore cleaning. "
   ]
  },
  {
   "cell_type": "markdown",
   "id": "d0663414",
   "metadata": {},
   "source": [
    "# Data exploration"
   ]
  },
  {
   "cell_type": "code",
   "execution_count": 18,
   "id": "dec63fa2",
   "metadata": {},
   "outputs": [
    {
     "data": {
      "image/png": "[encoded data removed]",
      "text/plain": [
       "<Figure size 1000x1000 with 1 Axes>"
      ]
     },
     "metadata": {},
     "output_type": "display_data"
    }
   ],
   "source": [
    "# cocoa percent versus rating\n",
    "plt.figure(figsize=(10,10))\n",
    "sctplt = sns.scatterplot(x='Cocoa_Percent', y='Rating', data=df_clean, color = 'green')\n",
    "plt.show()"
   ]
  },
  {
   "cell_type": "code",
   "execution_count": 16,
   "id": "80ed3e78",
   "metadata": {},
   "outputs": [
    {
     "data": {
      "image/png": "[encoded data removed]",
      "text/plain": [
       "<Figure size 1000x1000 with 1 Axes>"
      ]
     },
     "metadata": {},
     "output_type": "display_data"
    }
   ],
   "source": [
    "# Rating versus review date \n",
    "plt.figure(figsize=(10,10))\n",
    "sctplt = sns.scatterplot(x='Review_Date', y='Rating', data=df_clean, color = 'orange')\n",
    "plt.show()"
   ]
  },
  {
   "cell_type": "code",
   "execution_count": 15,
   "id": "201f8c92",
   "metadata": {},
   "outputs": [
    {
     "data": {
      "image/png": "[encoded data removed]",
      "text/plain": [
       "<Figure size 1000x1000 with 1 Axes>"
      ]
     },
     "metadata": {},
     "output_type": "display_data"
    }
   ],
   "source": [
    "# Cocoa percent versus review date\n",
    "plt.figure(figsize=(10,10))\n",
    "sctplt = sns.scatterplot(x='Review_Date', y='Cocoa_Percent', data=df_clean, color = 'orange')\n",
    "plt.show()"
   ]
  },
  {
   "cell_type": "markdown",
   "id": "81892bed",
   "metadata": {},
   "source": [
    "## Hypothesis\n",
    "This is where this data set is a little less interesting. There isn't any strong relationships in the continous variables, so the hypothesis is going to be a little weak.\n",
    "\n",
    "Hypothesis: As the cocoa percentage increases the overall rating decreases."
   ]
  },
  {
   "cell_type": "markdown",
   "id": "38386e59",
   "metadata": {},
   "source": [
    "# Regression "
   ]
  },
  {
   "cell_type": "code",
   "execution_count": 19,
   "id": "43b1dd12",
   "metadata": {},
   "outputs": [],
   "source": [
    "# converting to numpy arrary\n",
    "X = df_clean['Cocoa_Percent'].values.reshape(-1,1)\n",
    "y = df_clean['Rating'].values.reshape(-1,1)"
   ]
  },
  {
   "cell_type": "code",
   "execution_count": 20,
   "id": "8ecdd4a5",
   "metadata": {},
   "outputs": [],
   "source": [
    "# Creating training sets \n",
    "X_train, X_test, y_train, y_test = train_test_split(X, y, test_size=0.3, random_state=0)"
   ]
  },
  {
   "cell_type": "code",
   "execution_count": 21,
   "id": "4133f3dc",
   "metadata": {},
   "outputs": [],
   "source": [
    "#preparing the regression object and prediction \n",
    "regression = LinearRegression()\n",
    "regression.fit(X_train, y_train)\n",
    "y_predicted = regression.predict(X_test)"
   ]
  },
  {
   "cell_type": "code",
   "execution_count": 22,
   "id": "a9f6bea8",
   "metadata": {},
   "outputs": [
    {
     "data": {
      "image/png": "[encoded data removed]",
      "text/plain": [
       "<Figure size 640x480 with 1 Axes>"
      ]
     },
     "metadata": {},
     "output_type": "display_data"
    }
   ],
   "source": [
    "# plotting\n",
    "plot_test = plt\n",
    "plot_test.scatter(X_test, y_test, color='purple', s = 15)\n",
    "plot_test.plot(X_test, y_predicted, color='red', linewidth =3)\n",
    "plot_test.title('Cocoa_Percent vs Rating (Test set)')\n",
    "plot_test.xlabel('Cocoa_Percent')\n",
    "plot_test.ylabel('Rating')\n",
    "plot_test.show()"
   ]
  },
  {
   "cell_type": "code",
   "execution_count": 23,
   "id": "a448a904",
   "metadata": {},
   "outputs": [
    {
     "name": "stdout",
     "output_type": "stream",
     "text": [
      "Slope: [[-0.01343972]]\n",
      "Mean squared error:  0.21087155502131985\n",
      "R2 score:  -0.0025688584207557152\n"
     ]
    }
   ],
   "source": [
    "# checking error\n",
    "rmse = mean_squared_error(y_test, y_predicted)\n",
    "r2 = r2_score(y_test, y_predicted)\n",
    "print('Slope:' ,regression.coef_)\n",
    "print('Mean squared error: ', rmse)\n",
    "print('R2 score: ', r2)"
   ]
  },
  {
   "cell_type": "code",
   "execution_count": 24,
   "id": "a8018552",
   "metadata": {},
   "outputs": [
    {
     "data": {
      "text/html": [
       "<div>\n",
       "<style scoped>\n",
       "    .dataframe tbody tr th:only-of-type {\n",
       "        vertical-align: middle;\n",
       "    }\n",
       "\n",
       "    .dataframe tbody tr th {\n",
       "        vertical-align: top;\n",
       "    }\n",
       "\n",
       "    .dataframe thead th {\n",
       "        text-align: right;\n",
       "    }\n",
       "</style>\n",
       "<table border=\"1\" class=\"dataframe\">\n",
       "  <thead>\n",
       "    <tr style=\"text-align: right;\">\n",
       "      <th></th>\n",
       "      <th>Actual</th>\n",
       "      <th>Predicted</th>\n",
       "    </tr>\n",
       "  </thead>\n",
       "  <tbody>\n",
       "    <tr>\n",
       "      <th>0</th>\n",
       "      <td>3.75</td>\n",
       "      <td>3.219406</td>\n",
       "    </tr>\n",
       "    <tr>\n",
       "      <th>1</th>\n",
       "      <td>2.50</td>\n",
       "      <td>2.964051</td>\n",
       "    </tr>\n",
       "    <tr>\n",
       "      <th>2</th>\n",
       "      <td>3.25</td>\n",
       "      <td>3.259725</td>\n",
       "    </tr>\n",
       "    <tr>\n",
       "      <th>3</th>\n",
       "      <td>2.75</td>\n",
       "      <td>3.044689</td>\n",
       "    </tr>\n",
       "    <tr>\n",
       "      <th>4</th>\n",
       "      <td>2.75</td>\n",
       "      <td>3.192526</td>\n",
       "    </tr>\n",
       "    <tr>\n",
       "      <th>5</th>\n",
       "      <td>3.50</td>\n",
       "      <td>3.219406</td>\n",
       "    </tr>\n",
       "    <tr>\n",
       "      <th>6</th>\n",
       "      <td>3.50</td>\n",
       "      <td>3.286604</td>\n",
       "    </tr>\n",
       "    <tr>\n",
       "      <th>7</th>\n",
       "      <td>3.00</td>\n",
       "      <td>3.152207</td>\n",
       "    </tr>\n",
       "    <tr>\n",
       "      <th>8</th>\n",
       "      <td>4.00</td>\n",
       "      <td>3.152207</td>\n",
       "    </tr>\n",
       "    <tr>\n",
       "      <th>9</th>\n",
       "      <td>3.00</td>\n",
       "      <td>3.192526</td>\n",
       "    </tr>\n",
       "    <tr>\n",
       "      <th>10</th>\n",
       "      <td>3.50</td>\n",
       "      <td>3.111888</td>\n",
       "    </tr>\n",
       "    <tr>\n",
       "      <th>11</th>\n",
       "      <td>3.75</td>\n",
       "      <td>3.219406</td>\n",
       "    </tr>\n",
       "    <tr>\n",
       "      <th>12</th>\n",
       "      <td>3.75</td>\n",
       "      <td>3.152207</td>\n",
       "    </tr>\n",
       "    <tr>\n",
       "      <th>13</th>\n",
       "      <td>3.25</td>\n",
       "      <td>3.219406</td>\n",
       "    </tr>\n",
       "    <tr>\n",
       "      <th>14</th>\n",
       "      <td>3.50</td>\n",
       "      <td>3.125328</td>\n",
       "    </tr>\n",
       "    <tr>\n",
       "      <th>15</th>\n",
       "      <td>3.25</td>\n",
       "      <td>3.125328</td>\n",
       "    </tr>\n",
       "    <tr>\n",
       "      <th>16</th>\n",
       "      <td>3.50</td>\n",
       "      <td>3.192526</td>\n",
       "    </tr>\n",
       "    <tr>\n",
       "      <th>17</th>\n",
       "      <td>4.00</td>\n",
       "      <td>3.219406</td>\n",
       "    </tr>\n",
       "    <tr>\n",
       "      <th>18</th>\n",
       "      <td>3.25</td>\n",
       "      <td>3.219406</td>\n",
       "    </tr>\n",
       "    <tr>\n",
       "      <th>19</th>\n",
       "      <td>3.25</td>\n",
       "      <td>3.219406</td>\n",
       "    </tr>\n",
       "    <tr>\n",
       "      <th>20</th>\n",
       "      <td>3.00</td>\n",
       "      <td>3.017810</td>\n",
       "    </tr>\n",
       "    <tr>\n",
       "      <th>21</th>\n",
       "      <td>2.75</td>\n",
       "      <td>3.165647</td>\n",
       "    </tr>\n",
       "    <tr>\n",
       "      <th>22</th>\n",
       "      <td>2.75</td>\n",
       "      <td>3.152207</td>\n",
       "    </tr>\n",
       "    <tr>\n",
       "      <th>23</th>\n",
       "      <td>3.00</td>\n",
       "      <td>3.192526</td>\n",
       "    </tr>\n",
       "    <tr>\n",
       "      <th>24</th>\n",
       "      <td>4.00</td>\n",
       "      <td>3.313484</td>\n",
       "    </tr>\n",
       "    <tr>\n",
       "      <th>25</th>\n",
       "      <td>3.00</td>\n",
       "      <td>3.219406</td>\n",
       "    </tr>\n",
       "    <tr>\n",
       "      <th>26</th>\n",
       "      <td>2.75</td>\n",
       "      <td>3.192526</td>\n",
       "    </tr>\n",
       "    <tr>\n",
       "      <th>27</th>\n",
       "      <td>3.00</td>\n",
       "      <td>3.125328</td>\n",
       "    </tr>\n",
       "    <tr>\n",
       "      <th>28</th>\n",
       "      <td>3.00</td>\n",
       "      <td>3.192526</td>\n",
       "    </tr>\n",
       "    <tr>\n",
       "      <th>29</th>\n",
       "      <td>3.00</td>\n",
       "      <td>3.165647</td>\n",
       "    </tr>\n",
       "  </tbody>\n",
       "</table>\n",
       "</div>"
      ],
      "text/plain": [
       "    Actual  Predicted\n",
       "0     3.75   3.219406\n",
       "1     2.50   2.964051\n",
       "2     3.25   3.259725\n",
       "3     2.75   3.044689\n",
       "4     2.75   3.192526\n",
       "5     3.50   3.219406\n",
       "6     3.50   3.286604\n",
       "7     3.00   3.152207\n",
       "8     4.00   3.152207\n",
       "9     3.00   3.192526\n",
       "10    3.50   3.111888\n",
       "11    3.75   3.219406\n",
       "12    3.75   3.152207\n",
       "13    3.25   3.219406\n",
       "14    3.50   3.125328\n",
       "15    3.25   3.125328\n",
       "16    3.50   3.192526\n",
       "17    4.00   3.219406\n",
       "18    3.25   3.219406\n",
       "19    3.25   3.219406\n",
       "20    3.00   3.017810\n",
       "21    2.75   3.165647\n",
       "22    2.75   3.152207\n",
       "23    3.00   3.192526\n",
       "24    4.00   3.313484\n",
       "25    3.00   3.219406\n",
       "26    2.75   3.192526\n",
       "27    3.00   3.125328\n",
       "28    3.00   3.192526\n",
       "29    3.00   3.165647"
      ]
     },
     "execution_count": 24,
     "metadata": {},
     "output_type": "execute_result"
    }
   ],
   "source": [
    "# Create a dataframe comparing the actual and predicted values of y.\n",
    "\n",
    "data = pd.DataFrame({'Actual': y_test.flatten(), 'Predicted': y_predicted.flatten()})\n",
    "data.head(30)"
   ]
  },
  {
   "cell_type": "code",
   "execution_count": 31,
   "id": "24af446c",
   "metadata": {
    "scrolled": true
   },
   "outputs": [
    {
     "name": "stdout",
     "output_type": "stream",
     "text": [
      "Actual Average: 3.1953528399311533 \n",
      " Predicted Average: 3.1981590719161423 \n",
      " Percent Difference:  0.08782228835328075\n"
     ]
    }
   ],
   "source": [
    "# A quick look at the difference between the predicted and the actual using averages\n",
    "print('Actual Average:', data['Actual'].mean(),'\\n', 'Predicted Average:', data['Predicted'].mean(),'\\n', 'Percent Difference: ', (abs((data['Actual'].mean())-(data['Predicted'].mean()))/(data['Actual'].mean()))* 100)"
   ]
  },
  {
   "cell_type": "markdown",
   "id": "4a118452",
   "metadata": {},
   "source": [
    "## Regression Insights\n",
    "With a very small MSE and R2 the predictive analysis seems to have modeled the data very well. Checking further the averages of the predicted and the actual ratings are very close to each other. Proving the overall accuracy of the model.\n",
    "\n",
    "The weak slopes present in all the scatterplots helps indicate a lack of bias in the data set. To elaborate, weak correlation on rating for review date and cocoa percentage. Means that there isn't much of a temporal bias in the data and there isn't measurement bias in the form of a preference for or agianist cocoa percentage. There maybe some sample bias in the form of a lack of data in the lower cocoa percentage range. Dark chocolate is defined as having at least 43% cocoa but there is not alot of data around the 50% which would classify. "
   ]
  },
  {
   "cell_type": "code",
   "execution_count": null,
   "id": "7d8d1e84",
   "metadata": {},
   "outputs": [],
   "source": []
  }
 ],
 "metadata": {
  "kernelspec": {
   "display_name": "Python 3 (ipykernel)",
   "language": "python",
   "name": "python3"
  },
  "language_info": {
   "codemirror_mode": {
    "name": "ipython",
    "version": 3
   },
   "file_extension": ".py",
   "mimetype": "text/x-python",
   "name": "python",
   "nbconvert_exporter": "python",
   "pygments_lexer": "ipython3",
   "version": "3.12.3"
  },
  "toc": {
   "base_numbering": 1,
   "nav_menu": {},
   "number_sections": true,
   "sideBar": true,
   "skip_h1_title": false,
   "title_cell": "Table of Contents",
   "title_sidebar": "Contents",
   "toc_cell": false,
   "toc_position": {},
   "toc_section_display": true,
   "toc_window_display": false
  }
 },
 "nbformat": 4,
 "nbformat_minor": 5
}
