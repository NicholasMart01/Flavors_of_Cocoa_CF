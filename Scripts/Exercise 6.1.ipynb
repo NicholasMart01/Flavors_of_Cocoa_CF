{
 "cells": [
  {
   "cell_type": "markdown",
   "id": "1a4be37e",
   "metadata": {},
   "source": [
    "# Importing"
   ]
  },
  {
   "cell_type": "markdown",
   "id": "063de2df",
   "metadata": {},
   "source": [
    "\"\"\"\n",
    "\n",
    "intial data review and cleaning \n",
    "\n",
    "\"\"\""
   ]
  },
  {
   "cell_type": "code",
   "execution_count": 2,
   "id": "a0fe9a94",
   "metadata": {},
   "outputs": [],
   "source": [
    "#importing data and libraries \n",
    "import pandas as pd\n",
    "import numpy as np \n",
    "import os\n",
    "path = r'C:\\Users\\Administrator\\Desktop\\Projects (Carrer foundry)\\Achievement 6'\n",
    "df_cleaning= pd.read_csv(os.path.join(path, 'Data','flavors_of_cacao.csv'), index_col= False)"
   ]
  },
  {
   "cell_type": "markdown",
   "id": "7efb260c",
   "metadata": {},
   "source": [
    "# Checking data "
   ]
  },
  {
   "cell_type": "code",
   "execution_count": 3,
   "id": "346ca9b0",
   "metadata": {},
   "outputs": [
    {
     "name": "stdout",
     "output_type": "stream",
     "text": [
      "<class 'pandas.core.frame.DataFrame'>\n",
      "RangeIndex: 1795 entries, 0 to 1794\n",
      "Data columns (total 9 columns):\n",
      " #   Column                            Non-Null Count  Dtype  \n",
      "---  ------                            --------------  -----  \n",
      " 0   Company \n",
      "(Maker-if known)         1795 non-null   object \n",
      " 1   Specific Bean Origin\n",
      "or Bar Name  1795 non-null   object \n",
      " 2   REF                               1795 non-null   int64  \n",
      " 3   Review\n",
      "Date                       1795 non-null   int64  \n",
      " 4   Cocoa\n",
      "Percent                     1795 non-null   object \n",
      " 5   Company\n",
      "Location                  1795 non-null   object \n",
      " 6   Rating                            1795 non-null   float64\n",
      " 7   Bean\n",
      "Type                         1794 non-null   object \n",
      " 8   Broad Bean\n",
      "Origin                 1794 non-null   object \n",
      "dtypes: float64(1), int64(2), object(6)\n",
      "memory usage: 126.3+ KB\n",
      "None\n"
     ]
    },
    {
     "data": {
      "text/plain": [
       "'\\ndisplays the information found within the df_cleaning dataframe using .info method\\n\\nPrint method\\nPrints the values to a stream, or to sys.stdout by default.\\n\\n.info\\nPrints concise summary of a DataFrame.\\n\\nIncludes the number of non-null entries in each column, data type of each column, \\nand memory usage of the DataFrame.\\n\\n'"
      ]
     },
     "execution_count": 3,
     "metadata": {},
     "output_type": "execute_result"
    }
   ],
   "source": [
    "print(df_cleaning.info())\n",
    "\"\"\"\n",
    "\n",
    "displays the information found within the df_cleaning dataframe using .info method\n",
    "\n",
    "Print method\n",
    "Prints the values to a stream, or to sys.stdout by default.\n",
    "\n",
    ".info\n",
    "Prints concise summary of a DataFrame.\n",
    "\n",
    "Includes the number of non-null entries in each column, data type of each column, \n",
    "and memory usage of the DataFrame.\n",
    "\n",
    "\"\"\""
   ]
  },
  {
   "cell_type": "code",
   "execution_count": 4,
   "id": "ab439650",
   "metadata": {},
   "outputs": [
    {
     "name": "stdout",
     "output_type": "stream",
     "text": [
      "Company \\n(Maker-if known)           0\n",
      "Specific Bean Origin\\nor Bar Name    0\n",
      "REF                                  0\n",
      "Review\\nDate                         0\n",
      "Cocoa\\nPercent                       0\n",
      "Company\\nLocation                    0\n",
      "Rating                               0\n",
      "Bean\\nType                           1\n",
      "Broad Bean\\nOrigin                   1\n",
      "dtype: int64\n"
     ]
    }
   ],
   "source": [
    "# Check for missing values\n",
    "missing_values = df_cleaning.isnull().sum()\n",
    "\"\"\"\n",
    "creates a dataframe containing the sum of all null values in the original data frame\n",
    "\n",
    ".isnull()\n",
    "\n",
    "returns 1 if an entry in the dataframe is null or a 0 if it isn't\n",
    "\n",
    ".sum()\n",
    "\n",
    "Sums all numerical input \n",
    "\n",
    "\"\"\"\n",
    "print(missing_values)\n"
   ]
  },
  {
   "cell_type": "markdown",
   "id": "d8167c50",
   "metadata": {},
   "source": [
    "# Cleaning data"
   ]
  },
  {
   "cell_type": "code",
   "execution_count": 6,
   "id": "28ec2709",
   "metadata": {},
   "outputs": [],
   "source": [
    "# dropping the rows with null bean and broad bean origin\n",
    "df_cleaner = df_cleaning.dropna()\n",
    "\"\"\"\n",
    "Removes the null values found above\n",
    "\n",
    ".dropna()\n",
    "Remove missing values.\n",
    "\n",
    "\"\"\""
   ]
  },
  {
   "cell_type": "code",
   "execution_count": 8,
   "id": "b6b523b1",
   "metadata": {},
   "outputs": [
    {
     "name": "stdout",
     "output_type": "stream",
     "text": [
      "Company \\n(Maker-if known)           0\n",
      "Specific Bean Origin\\nor Bar Name    0\n",
      "REF                                  0\n",
      "Review\\nDate                         0\n",
      "Cocoa\\nPercent                       0\n",
      "Company\\nLocation                    0\n",
      "Rating                               0\n",
      "Bean\\nType                           0\n",
      "Broad Bean\\nOrigin                   0\n",
      "dtype: int64\n"
     ]
    }
   ],
   "source": [
    "# checking to make sure that worked\n",
    "missing_values = df_cleaner.isnull().sum()\n",
    "print(missing_values)"
   ]
  },
  {
   "cell_type": "code",
   "execution_count": 10,
   "id": "7802b6e2",
   "metadata": {},
   "outputs": [
    {
     "name": "stdout",
     "output_type": "stream",
     "text": [
      "(1793, 9)\n"
     ]
    }
   ],
   "source": [
    "print(df_cleaner.shape)"
   ]
  },
  {
   "cell_type": "code",
   "execution_count": 11,
   "id": "88d9054d",
   "metadata": {},
   "outputs": [
    {
     "name": "stdout",
     "output_type": "stream",
     "text": [
      "(1795, 9)\n"
     ]
    }
   ],
   "source": [
    "print(df_cleaning.shape)"
   ]
  },
  {
   "cell_type": "code",
   "execution_count": 13,
   "id": "8b6daf77",
   "metadata": {},
   "outputs": [
    {
     "name": "stdout",
     "output_type": "stream",
     "text": [
      "Column 'Company \n",
      "(Maker-if known)' has mixed types: False\n",
      "Column 'Specific Bean Origin\n",
      "or Bar Name' has mixed types: False\n",
      "Column 'REF' has mixed types: False\n",
      "Column 'Review\n",
      "Date' has mixed types: False\n",
      "Column 'Cocoa\n",
      "Percent' has mixed types: False\n",
      "Column 'Company\n",
      "Location' has mixed types: False\n",
      "Column 'Rating' has mixed types: False\n",
      "Column 'Bean\n",
      "Type' has mixed types: False\n",
      "Column 'Broad Bean\n",
      "Origin' has mixed types: False\n"
     ]
    }
   ],
   "source": [
    "# looks like we lost only two rows\n",
    "# checking for mixed data \n",
    "for column in df_cleaner.columns:\n",
    "    print(f\"Column '{column}' has mixed types: {df_cleaner[column].apply(type).nunique() > 1}\")\n",
    "\"\"\"\n",
    "Runs a loop for all columns in a dataframe checking for mixed data types\n",
    "\n",
    ".apply()\n",
    "\n",
    "applies a function across all columns of a dataframe\n",
    "\n",
    ".nunique()\n",
    "increases a count everytime a new element is found in a column\n",
    "\"\"\""
   ]
  },
  {
   "cell_type": "code",
   "execution_count": 16,
   "id": "8e0e65fb",
   "metadata": {},
   "outputs": [
    {
     "name": "stdout",
     "output_type": "stream",
     "text": [
      "0\n"
     ]
    }
   ],
   "source": [
    "# checking for duplicate rows\n",
    "dups = df_cleaner.duplicated().sum()\n",
    "\"\"\"\n",
    "sums all instances of duplicated entries\n",
    "\n",
    ".duplicated()\n",
    "Returns a boolean series for all duplicated rows\n",
    "\n",
    "\"\"\"\n",
    "print(dups)"
   ]
  },
  {
   "cell_type": "markdown",
   "id": "534501c1",
   "metadata": {},
   "source": [
    "# Descriptive Stats"
   ]
  },
  {
   "cell_type": "code",
   "execution_count": 17,
   "id": "84675259",
   "metadata": {},
   "outputs": [
    {
     "data": {
      "text/html": [
       "<div>\n",
       "<style scoped>\n",
       "    .dataframe tbody tr th:only-of-type {\n",
       "        vertical-align: middle;\n",
       "    }\n",
       "\n",
       "    .dataframe tbody tr th {\n",
       "        vertical-align: top;\n",
       "    }\n",
       "\n",
       "    .dataframe thead th {\n",
       "        text-align: right;\n",
       "    }\n",
       "</style>\n",
       "<table border=\"1\" class=\"dataframe\">\n",
       "  <thead>\n",
       "    <tr style=\"text-align: right;\">\n",
       "      <th></th>\n",
       "      <th>REF</th>\n",
       "      <th>Review\\nDate</th>\n",
       "      <th>Rating</th>\n",
       "    </tr>\n",
       "  </thead>\n",
       "  <tbody>\n",
       "    <tr>\n",
       "      <th>count</th>\n",
       "      <td>1793.000000</td>\n",
       "      <td>1793.000000</td>\n",
       "      <td>1793.000000</td>\n",
       "    </tr>\n",
       "    <tr>\n",
       "      <th>mean</th>\n",
       "      <td>1036.126046</td>\n",
       "      <td>2012.326269</td>\n",
       "      <td>3.185862</td>\n",
       "    </tr>\n",
       "    <tr>\n",
       "      <th>std</th>\n",
       "      <td>553.128742</td>\n",
       "      <td>2.928666</td>\n",
       "      <td>0.477668</td>\n",
       "    </tr>\n",
       "    <tr>\n",
       "      <th>min</th>\n",
       "      <td>5.000000</td>\n",
       "      <td>2006.000000</td>\n",
       "      <td>1.000000</td>\n",
       "    </tr>\n",
       "    <tr>\n",
       "      <th>25%</th>\n",
       "      <td>576.000000</td>\n",
       "      <td>2010.000000</td>\n",
       "      <td>3.000000</td>\n",
       "    </tr>\n",
       "    <tr>\n",
       "      <th>50%</th>\n",
       "      <td>1073.000000</td>\n",
       "      <td>2013.000000</td>\n",
       "      <td>3.250000</td>\n",
       "    </tr>\n",
       "    <tr>\n",
       "      <th>75%</th>\n",
       "      <td>1502.000000</td>\n",
       "      <td>2015.000000</td>\n",
       "      <td>3.500000</td>\n",
       "    </tr>\n",
       "    <tr>\n",
       "      <th>max</th>\n",
       "      <td>1952.000000</td>\n",
       "      <td>2017.000000</td>\n",
       "      <td>5.000000</td>\n",
       "    </tr>\n",
       "  </tbody>\n",
       "</table>\n",
       "</div>"
      ],
      "text/plain": [
       "               REF  Review\\nDate       Rating\n",
       "count  1793.000000   1793.000000  1793.000000\n",
       "mean   1036.126046   2012.326269     3.185862\n",
       "std     553.128742      2.928666     0.477668\n",
       "min       5.000000   2006.000000     1.000000\n",
       "25%     576.000000   2010.000000     3.000000\n",
       "50%    1073.000000   2013.000000     3.250000\n",
       "75%    1502.000000   2015.000000     3.500000\n",
       "max    1952.000000   2017.000000     5.000000"
      ]
     },
     "execution_count": 17,
     "metadata": {},
     "output_type": "execute_result"
    }
   ],
   "source": [
    "# data has been cleaned now for the descriptive stats\n",
    "df_cleaner.describe()\n",
    "\"\"\"\n",
    ".describe()\n",
    "Generate descriptive statistics for DataFrame columns.\n",
    "\n",
    "For each numeric column, it returns:\n",
    "    - count : Number of non-null entries\n",
    "    - mean : The mean of the values\n",
    "    - std : The standard deviation of the values\n",
    "    - min : The minimum value\n",
    "    - 25% : The 25th percentile (1st quartile)\n",
    "    - 50% : The median (2nd quartile, 50th percentile)\n",
    "    - 75% : The 75th percentile (3rd quartile)\n",
    "    - max : The maximum value\n",
    "\"\"\""
   ]
  },
  {
   "cell_type": "code",
   "execution_count": 18,
   "id": "7c574273",
   "metadata": {},
   "outputs": [
    {
     "name": "stdout",
     "output_type": "stream",
     "text": [
      "Company \\n(Maker-if known)           A. Morin\n",
      "Specific Bean Origin\\nor Bar Name      Atsane\n",
      "REF                                      1676\n",
      "Review\\nDate                             2015\n",
      "Cocoa\\nPercent                            70%\n",
      "Company\\nLocation                      France\n",
      "Rating                                    3.0\n",
      "Bean\\nType                                   \n",
      "Broad Bean\\nOrigin                       Togo\n",
      "Name: 2, dtype: object\n"
     ]
    }
   ],
   "source": [
    "# checking cocoapercent column\n",
    "r = df_cleaner.iloc[2]\n",
    "\"\"\"\n",
    "Determining type of data in cocoa percent column\n",
    "\n",
    ".iloc\n",
    "\n",
    "Purely integer-location based indexing for selection by position.\n",
    "\n",
    "This is primarily integer-based indexing for selecting rows and columns \n",
    "from a DataFrame or Series. It is not label-based, unlike `.loc[]`. \n",
    "You can use `.iloc[]` to access elements in a DataFrame or Series by row \n",
    "and column positions.\n",
    "\n",
    "\"\"\"\n",
    "print(r)"
   ]
  },
  {
   "cell_type": "markdown",
   "id": "eb646e74",
   "metadata": {},
   "source": [
    "# Changing cocoa percent to float"
   ]
  },
  {
   "cell_type": "code",
   "execution_count": 24,
   "id": "454bf8bb",
   "metadata": {},
   "outputs": [
    {
     "name": "stdout",
     "output_type": "stream",
     "text": [
      "     Company \\n(Maker-if known) Specific Bean Origin\\nor Bar Name   REF  \\\n",
      "0                      A. Morin                       Agua Grande  1876   \n",
      "1                      A. Morin                             Kpime  1676   \n",
      "2                      A. Morin                            Atsane  1676   \n",
      "3                      A. Morin                             Akata  1680   \n",
      "4                      A. Morin                            Quilla  1704   \n",
      "...                         ...                               ...   ...   \n",
      "1790                     Zotter                              Peru   647   \n",
      "1791                     Zotter                             Congo   749   \n",
      "1792                     Zotter                      Kerala State   749   \n",
      "1793                     Zotter                      Kerala State   781   \n",
      "1794                     Zotter                Brazil, Mitzi Blue   486   \n",
      "\n",
      "      Review\\nDate  Cocoa\\nPercent Company\\nLocation  Rating Bean\\nType  \\\n",
      "0             2016            63.0            France    3.75              \n",
      "1             2015            70.0            France    2.75              \n",
      "2             2015            70.0            France    3.00              \n",
      "3             2015            70.0            France    3.50              \n",
      "4             2015            70.0            France    3.50              \n",
      "...            ...             ...               ...     ...        ...   \n",
      "1790          2011            70.0           Austria    3.75              \n",
      "1791          2011            65.0           Austria    3.00  Forastero   \n",
      "1792          2011            65.0           Austria    3.50  Forastero   \n",
      "1793          2011            62.0           Austria    3.25              \n",
      "1794          2010            65.0           Austria    3.00              \n",
      "\n",
      "     Broad Bean\\nOrigin  \n",
      "0              Sao Tome  \n",
      "1                  Togo  \n",
      "2                  Togo  \n",
      "3                  Togo  \n",
      "4                  Peru  \n",
      "...                 ...  \n",
      "1790               Peru  \n",
      "1791              Congo  \n",
      "1792              India  \n",
      "1793              India  \n",
      "1794             Brazil  \n",
      "\n",
      "[1793 rows x 9 columns]\n"
     ]
    },
    {
     "name": "stderr",
     "output_type": "stream",
     "text": [
      "C:\\Users\\Administrator\\AppData\\Local\\Temp\\ipykernel_26580\\1265641574.py:1: SettingWithCopyWarning: \n",
      "A value is trying to be set on a copy of a slice from a DataFrame.\n",
      "Try using .loc[row_indexer,col_indexer] = value instead\n",
      "\n",
      "See the caveats in the documentation: https://pandas.pydata.org/pandas-docs/stable/user_guide/indexing.html#returning-a-view-versus-a-copy\n",
      "  df_cleaner['Cocoa\\nPercent'] = df_cleaner['Cocoa\\nPercent'].str.replace('%', '').astype(float)\n"
     ]
    }
   ],
   "source": [
    "df_cleaner['Cocoa\\nPercent'] = df_cleaner['Cocoa\\nPercent'].str.replace('%', '').astype(float)\n",
    "\"\"\"\n",
    ".replace()\n",
    "\n",
    "Replace values given in to_replace with value.\n",
    "\n",
    "This function can be used to replace values in a DataFrame or Series \n",
    "with a new value or set of values. The to_replace argument can be \n",
    "specified as a value, list, dict, or regex pattern, and the replacement \n",
    "can be provided in the same form.\n",
    "\n",
    ".astype()\n",
    "\n",
    "Cast a pandas object to a specified dtype.\n",
    "\n",
    "This function is used to cast a DataFrame or Series to a specified data type. \n",
    "It allows you to convert the data type of columns to integers, floats, strings, \n",
    "booleans, etc. You can apply this to a single column, multiple columns, or the \n",
    "entire DataFrame.\n",
    "\n",
    "\"\"\"\n",
    "print(df_cleaner)"
   ]
  },
  {
   "cell_type": "code",
   "execution_count": 25,
   "id": "6a2191f3",
   "metadata": {},
   "outputs": [
    {
     "name": "stdout",
     "output_type": "stream",
     "text": [
      "Company \\n(Maker-if known)           A. Morin\n",
      "Specific Bean Origin\\nor Bar Name      Atsane\n",
      "REF                                      1676\n",
      "Review\\nDate                             2015\n",
      "Cocoa\\nPercent                           70.0\n",
      "Company\\nLocation                      France\n",
      "Rating                                    3.0\n",
      "Bean\\nType                                   \n",
      "Broad Bean\\nOrigin                       Togo\n",
      "Name: 2, dtype: object\n"
     ]
    }
   ],
   "source": [
    "r = df_cleaner.iloc[2]\n",
    "print(r)"
   ]
  },
  {
   "cell_type": "code",
   "execution_count": 26,
   "id": "2a15f09d",
   "metadata": {},
   "outputs": [
    {
     "data": {
      "text/html": [
       "<div>\n",
       "<style scoped>\n",
       "    .dataframe tbody tr th:only-of-type {\n",
       "        vertical-align: middle;\n",
       "    }\n",
       "\n",
       "    .dataframe tbody tr th {\n",
       "        vertical-align: top;\n",
       "    }\n",
       "\n",
       "    .dataframe thead th {\n",
       "        text-align: right;\n",
       "    }\n",
       "</style>\n",
       "<table border=\"1\" class=\"dataframe\">\n",
       "  <thead>\n",
       "    <tr style=\"text-align: right;\">\n",
       "      <th></th>\n",
       "      <th>REF</th>\n",
       "      <th>Review\\nDate</th>\n",
       "      <th>Cocoa\\nPercent</th>\n",
       "      <th>Rating</th>\n",
       "    </tr>\n",
       "  </thead>\n",
       "  <tbody>\n",
       "    <tr>\n",
       "      <th>count</th>\n",
       "      <td>1793.000000</td>\n",
       "      <td>1793.000000</td>\n",
       "      <td>1793.000000</td>\n",
       "      <td>1793.000000</td>\n",
       "    </tr>\n",
       "    <tr>\n",
       "      <th>mean</th>\n",
       "      <td>1036.126046</td>\n",
       "      <td>2012.326269</td>\n",
       "      <td>71.699108</td>\n",
       "      <td>3.185862</td>\n",
       "    </tr>\n",
       "    <tr>\n",
       "      <th>std</th>\n",
       "      <td>553.128742</td>\n",
       "      <td>2.928666</td>\n",
       "      <td>6.326515</td>\n",
       "      <td>0.477668</td>\n",
       "    </tr>\n",
       "    <tr>\n",
       "      <th>min</th>\n",
       "      <td>5.000000</td>\n",
       "      <td>2006.000000</td>\n",
       "      <td>42.000000</td>\n",
       "      <td>1.000000</td>\n",
       "    </tr>\n",
       "    <tr>\n",
       "      <th>25%</th>\n",
       "      <td>576.000000</td>\n",
       "      <td>2010.000000</td>\n",
       "      <td>70.000000</td>\n",
       "      <td>3.000000</td>\n",
       "    </tr>\n",
       "    <tr>\n",
       "      <th>50%</th>\n",
       "      <td>1073.000000</td>\n",
       "      <td>2013.000000</td>\n",
       "      <td>70.000000</td>\n",
       "      <td>3.250000</td>\n",
       "    </tr>\n",
       "    <tr>\n",
       "      <th>75%</th>\n",
       "      <td>1502.000000</td>\n",
       "      <td>2015.000000</td>\n",
       "      <td>75.000000</td>\n",
       "      <td>3.500000</td>\n",
       "    </tr>\n",
       "    <tr>\n",
       "      <th>max</th>\n",
       "      <td>1952.000000</td>\n",
       "      <td>2017.000000</td>\n",
       "      <td>100.000000</td>\n",
       "      <td>5.000000</td>\n",
       "    </tr>\n",
       "  </tbody>\n",
       "</table>\n",
       "</div>"
      ],
      "text/plain": [
       "               REF  Review\\nDate  Cocoa\\nPercent       Rating\n",
       "count  1793.000000   1793.000000     1793.000000  1793.000000\n",
       "mean   1036.126046   2012.326269       71.699108     3.185862\n",
       "std     553.128742      2.928666        6.326515     0.477668\n",
       "min       5.000000   2006.000000       42.000000     1.000000\n",
       "25%     576.000000   2010.000000       70.000000     3.000000\n",
       "50%    1073.000000   2013.000000       70.000000     3.250000\n",
       "75%    1502.000000   2015.000000       75.000000     3.500000\n",
       "max    1952.000000   2017.000000      100.000000     5.000000"
      ]
     },
     "execution_count": 26,
     "metadata": {},
     "output_type": "execute_result"
    }
   ],
   "source": [
    "df_cleaner.describe()"
   ]
  },
  {
   "cell_type": "markdown",
   "id": "293fb165",
   "metadata": {},
   "source": [
    "# Changing column names"
   ]
  },
  {
   "cell_type": "code",
   "execution_count": 29,
   "id": "acf6aeb6",
   "metadata": {},
   "outputs": [],
   "source": [
    "# renaming all the columns with the \\n column\n",
    "df_cleaner = df_cleaner.rename(columns={'Company \\n(Maker-if known)': 'Company_(Maker-if known)', 'Specific Bean Origin\\nor Bar Name': 'Specific_Bean_Origin_or_Bar_Name', 'Review\\nDate':'Review_Date', 'Cocoa\\nPercent':'Cocoa_Percent', 'Company\\nLocation':'Company_Location','Bean\\nType':'Bean_Type','Broad Bean\\nOrigin':'Broad Bean_Origin'})"
   ]
  },
  {
   "cell_type": "code",
   "execution_count": 30,
   "id": "5f0e931d",
   "metadata": {},
   "outputs": [
    {
     "name": "stdout",
     "output_type": "stream",
     "text": [
      "Company \\n(Maker-if known)          A. Morin\n",
      "Specific_Bean_Origin_or_Bar_Name      Atsane\n",
      "REF                                     1676\n",
      "Review_Date                             2015\n",
      "Cocoa_Percent                           70.0\n",
      "Company_Location                      France\n",
      "Rating                                   3.0\n",
      "Bean_Type                                   \n",
      "Broad Bean_Origin                       Togo\n",
      "Name: 2, dtype: object\n"
     ]
    }
   ],
   "source": [
    "r = df_cleaner.iloc[2]\n",
    "print(r)"
   ]
  },
  {
   "cell_type": "code",
   "execution_count": 31,
   "id": "b299937c",
   "metadata": {},
   "outputs": [
    {
     "name": "stdout",
     "output_type": "stream",
     "text": [
      "Index(['Company \\n(Maker-if known)', 'Specific_Bean_Origin_or_Bar_Name', 'REF',\n",
      "       'Review_Date', 'Cocoa_Percent', 'Company_Location', 'Rating',\n",
      "       'Bean_Type', 'Broad Bean_Origin'],\n",
      "      dtype='object')\n"
     ]
    }
   ],
   "source": [
    "print(df_cleaner.columns)"
   ]
  },
  {
   "cell_type": "code",
   "execution_count": 32,
   "id": "d0c9367d",
   "metadata": {},
   "outputs": [],
   "source": [
    "df_cleaner = df_cleaner.rename(columns={'Company \\n(Maker-if known)': 'Company_(Maker-if known)'})\n",
    "\"\"\"\n",
    ".rename()\n",
    "\n",
    "Alter axes (index or columns) labels.\n",
    "\n",
    "This method allows renaming the **index** (row labels) or **columns** (column labels) \n",
    "of a DataFrame or Series.\n",
    "\"\"\""
   ]
  },
  {
   "cell_type": "code",
   "execution_count": 33,
   "id": "d6cd817d",
   "metadata": {},
   "outputs": [
    {
     "name": "stdout",
     "output_type": "stream",
     "text": [
      "Index(['Company \\n(Maker-if known)', 'Specific_Bean_Origin_or_Bar_Name', 'REF',\n",
      "       'Review_Date', 'Cocoa_Percent', 'Company_Location', 'Rating',\n",
      "       'Bean_Type', 'Broad Bean_Origin'],\n",
      "      dtype='object')\n"
     ]
    }
   ],
   "source": [
    "print(df_cleaner.columns)"
   ]
  },
  {
   "cell_type": "markdown",
   "id": "0e9430d2",
   "metadata": {},
   "source": [
    "# Exporting"
   ]
  },
  {
   "cell_type": "code",
   "execution_count": 34,
   "id": "6f4eaa2f",
   "metadata": {},
   "outputs": [],
   "source": [
    "# okay for some reason the first column won't rename leaving it\n",
    "# exporting the cleaned file \n",
    "df_cleaner.to_csv(os.path.join(path, 'Data','Cleaned_data.csv'))"
   ]
  },
  {
   "cell_type": "code",
   "execution_count": null,
   "id": "5a16c450",
   "metadata": {},
   "outputs": [],
   "source": []
  }
 ],
 "metadata": {
  "kernelspec": {
   "display_name": "Python 3 (ipykernel)",
   "language": "python",
   "name": "python3"
  },
  "language_info": {
   "codemirror_mode": {
    "name": "ipython",
    "version": 3
   },
   "file_extension": ".py",
   "mimetype": "text/x-python",
   "name": "python",
   "nbconvert_exporter": "python",
   "pygments_lexer": "ipython3",
   "version": "3.12.3"
  },
  "toc": {
   "base_numbering": 1,
   "nav_menu": {},
   "number_sections": true,
   "sideBar": true,
   "skip_h1_title": false,
   "title_cell": "Table of Contents",
   "title_sidebar": "Contents",
   "toc_cell": false,
   "toc_position": {
    "height": "calc(100% - 180px)",
    "left": "10px",
    "top": "150px",
    "width": "1013.5px"
   },
   "toc_section_display": true,
   "toc_window_display": true
  }
 },
 "nbformat": 4,
 "nbformat_minor": 5
}
